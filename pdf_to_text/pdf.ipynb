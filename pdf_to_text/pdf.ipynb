{
 "cells": [
  {
   "cell_type": "code",
   "execution_count": null,
   "id": "220b50f9",
   "metadata": {},
   "outputs": [],
   "source": [
    "# coding=utf-8\n",
    "import math\n",
    "import os\n",
    "import sys\n",
    "import time\n",
    "\n",
    "from pdfminer.high_level import extract_pages\n",
    "from pdfminer.layout import LTTextContainer"
   ]
  },
  {
   "cell_type": "code",
   "execution_count": null,
   "id": "dd30497e",
   "metadata": {},
   "outputs": [],
   "source": [
    "def pdf2txt(f):\n",
    "    for page_layout in extract_pages(f):\n",
    "        text_area = []\n",
    "        count = 1\n",
    "        for element in page_layout:\n",
    "            if isinstance(element, LTTextContainer):\n",
    "                text = element.get_text()\n",
    "\n",
    "                s = str(text).strip()\n",
    "                text_height = math.floor(element.height)\n",
    "                x0 = math.floor(element.x0)\n",
    "                y1 = -math.floor(element.y1)\n",
    "#                 print(count, y1, x0, text_height, s)\n",
    "                text_area.append([y1, x0, text_height, s])\n",
    "                count += 1\n",
    "        break\n",
    "    return text_area"
   ]
  },
  {
   "cell_type": "code",
   "execution_count": null,
   "id": "ea18aca2",
   "metadata": {},
   "outputs": [],
   "source": [
    "text_area = pdf2txt('4034004.pdf')"
   ]
  },
  {
   "cell_type": "code",
   "execution_count": null,
   "id": "17d41be4",
   "metadata": {},
   "outputs": [],
   "source": [
    "text_area.sort()\n",
    "text_area"
   ]
  },
  {
   "cell_type": "code",
   "execution_count": null,
   "id": "8e2e7872",
   "metadata": {},
   "outputs": [],
   "source": [
    "s = text_area[4][-1]"
   ]
  },
  {
   "cell_type": "code",
   "execution_count": null,
   "id": "379dfe27",
   "metadata": {},
   "outputs": [],
   "source": [
    "text_area[1][-1].split(',')[0]"
   ]
  },
  {
   "cell_type": "code",
   "execution_count": null,
   "id": "43757dc7",
   "metadata": {},
   "outputs": [],
   "source": [
    "s.replace(u'\\xa0\\xa0\\xa0', u'')\n",
    "print(s)"
   ]
  },
  {
   "cell_type": "code",
   "execution_count": null,
   "id": "b5c7684e",
   "metadata": {},
   "outputs": [],
   "source": [
    "text_area.sort()"
   ]
  },
  {
   "cell_type": "code",
   "execution_count": null,
   "id": "aca07787",
   "metadata": {},
   "outputs": [],
   "source": [
    "text_area.reverse()\n",
    "text_area"
   ]
  },
  {
   "cell_type": "code",
   "execution_count": null,
   "id": "f7956f41",
   "metadata": {},
   "outputs": [],
   "source": [
    "i = 0\n",
    "text = []\n",
    "while i < len(text_area):\n",
    "    j = i+1\n",
    "    s = text_area[i][-1]\n",
    "    if text_area[i][2]==14:\n",
    "        s = '●' + s\n",
    "    elif text_area[i][2]==9:\n",
    "        s = '■' + s\n",
    "    \n",
    "    while j<len(text_area) and text_area[i][0]==text_area[j][0]:\n",
    "        if text_area[i][2]==9:\n",
    "            s = s + ': ' + text_area[j][-1]\n",
    "        else:\n",
    "            s = s + ' ' + text_area[j][-1]\n",
    "        j += 1\n",
    "    text.append(s)\n",
    "    i = j"
   ]
  },
  {
   "cell_type": "code",
   "execution_count": null,
   "id": "8be5fbc7",
   "metadata": {},
   "outputs": [],
   "source": [
    "text.reverse()\n",
    "print('\\n'.join(text))"
   ]
  },
  {
   "cell_type": "code",
   "execution_count": null,
   "id": "47c9d00a",
   "metadata": {},
   "outputs": [],
   "source": [
    "text"
   ]
  },
  {
   "cell_type": "code",
   "execution_count": null,
   "id": "bb722ca6",
   "metadata": {},
   "outputs": [],
   "source": [
    "def pdf2txt2(f):\n",
    "\n",
    "    # model = set([])\n",
    "    # des = ''\n",
    "    # date = ''\n",
    "    # count = 0\n",
    "    # doc_name = ''\n",
    "\n",
    "    for page_layout in extract_pages(f):\n",
    "        for element in page_layout:\n",
    "            if isinstance(element, LTTextContainer):\n",
    "                text = element.get_text()\n",
    "\n",
    "                s = str(text).strip()\n",
    "                text_height = math.floor(element.height)\n",
    "\n",
    "                text_area = []\n",
    "                count = 1\n",
    "                for element in page_layout:\n",
    "                    if isinstance(element, LTTextContainer):\n",
    "                        text = element.get_text()\n",
    "\n",
    "                        s = str(text).strip().replace('\\n', ' ')\n",
    "                        text_height = math.floor(element.height)\n",
    "                        x0 = math.floor(element.x0)\n",
    "                        y0 = math.floor(element.y0)\n",
    "                        # print(count, y0, x0, text_height, s)\n",
    "                        text_area.append([y0, x0, text_height, s])\n",
    "                        count += 1\n",
    "\n",
    "                # if text_height == 22:\n",
    "                #     if '|' in s:\n",
    "                #         m = [i.strip() for i in s.split('|')]\n",
    "                #         for j in m:\n",
    "                #             model.add(j)\n",
    "                #     else:\n",
    "                #         model.add(s)\n",
    "\n",
    "                #     doc_name = s.replace('    ', ' ')\n",
    "\n",
    "                # if text_height == 29 or text_height == 12:\n",
    "                #     des = '●' + s.replace('\\n', ' ').replace('  ', ' ')\n",
    "\n",
    "                # if text_height == 24:\n",
    "                #     date = s[s.index(':') + 2:]\n",
    "        break\n",
    "\n",
    "    text_area.sort()\n",
    "#     text_area.reverse()\n",
    "    print(text_area)\n",
    "    \n",
    "    i = 0\n",
    "    text = []\n",
    "     pt = ''\n",
    "    while i < len(text_area):\n",
    "        j = i+1\n",
    "        s = text_area[i][-1]\n",
    "        if text_area[i][2]==14:\n",
    "            s = '●' + s\n",
    "        elif text_area[i][2]==9:\n",
    "            s = '■' + s\n",
    "        \n",
    "        while j<len(text_area) and text_area[i][0]==text_area[j][0]:\n",
    "            if text_area[i][2]==9:\n",
    "                s = s + ': ' + text_area[j][-1]\n",
    "            else:\n",
    "                s = s + ' ' + text_area[j][-1]\n",
    "                \n",
    "            if s.startswith('■Product Type'):\n",
    "                pt = text_area[j][-1]\n",
    "            j += 1\n",
    "        \n",
    "        text.append(s)\n",
    "        i = j\n",
    "    \n",
    "    text.reverse()\n",
    "    print('\\n'.join(text))\n",
    "    print(pt)\n",
    "    \n",
    "    return(text)\n",
    "    \n",
    "    # print('--------复制开始--------')\n",
    "    # print('Datasheet')\n",
    "    # print(doc_name)\n",
    "    # print(des)\n",
    "    # print('\\n'.join(model))\n",
    "    # print(date)"
   ]
  },
  {
   "cell_type": "code",
   "execution_count": null,
   "id": "0e274b17",
   "metadata": {},
   "outputs": [],
   "source": [
    "text = pdf2txt2('3177656.pdf')"
   ]
  },
  {
   "cell_type": "code",
   "execution_count": null,
   "id": "9ee08634",
   "metadata": {},
   "outputs": [],
   "source": [
    "print(text)"
   ]
  },
  {
   "cell_type": "code",
   "execution_count": null,
   "id": "a07bc5f1",
   "metadata": {},
   "outputs": [],
   "source": [
    "model = text[0]\n",
    "doc_name = text[0]\n",
    "if '|' in text[0]:\n",
    "    t = text[0].split('|')\n",
    "    doc_name = text[0].replace('    |    ', ' ')\n",
    "    model = [i.strip() for i in t]\n",
    "doc_name = doc_name + ' ' + text[1]\n",
    "print(doc_name)\n",
    "print('\\n'.join(model))"
   ]
  },
  {
   "cell_type": "code",
   "execution_count": null,
   "id": "8fb0b0e2",
   "metadata": {},
   "outputs": [],
   "source": [
    "date = text[-1][text[-1].index(':')+2:]\n",
    "print(date)"
   ]
  },
  {
   "cell_type": "code",
   "execution_count": null,
   "id": "43aedc64",
   "metadata": {},
   "outputs": [],
   "source": [
    "if not text[2].startswith('●'):\n",
    "    text[2] = '●' + text[2].replace('  ', ' ')\n",
    "text[2]"
   ]
  },
  {
   "cell_type": "code",
   "execution_count": null,
   "id": "20c4ee30",
   "metadata": {},
   "outputs": [],
   "source": [
    "print('Datasheet')\n",
    "print(doc_name)\n",
    "print('\\n'.join(text[2:-2]))\n",
    "print('\\n'.join(model))"
   ]
  },
  {
   "cell_type": "code",
   "execution_count": null,
   "id": "76008672",
   "metadata": {},
   "outputs": [],
   "source": [
    "for i in range(len(text)):\n",
    "    s = text[i]\n",
    "    if s.startswith('■Regional Availability'):\n",
    "        region = i\n",
    "print(region)"
   ]
  },
  {
   "cell_type": "code",
   "execution_count": null,
   "id": "8e236361",
   "metadata": {},
   "outputs": [],
   "source": [
    "text.remove(text[region])\n",
    "print(text)"
   ]
  },
  {
   "cell_type": "code",
   "execution_count": null,
   "id": "e29bfb7a",
   "metadata": {},
   "outputs": [],
   "source": [
    "s = '\\xa0\\xa0\\xa0|\\xa0\\xa0\\xa0'"
   ]
  },
  {
   "cell_type": "code",
   "execution_count": null,
   "id": "c4f93ff7",
   "metadata": {},
   "outputs": [],
   "source": [
    "s"
   ]
  },
  {
   "cell_type": "code",
   "execution_count": null,
   "id": "a9232847",
   "metadata": {},
   "outputs": [],
   "source": [
    "s.replace('\\xa0\\xa0\\xa0|\\xa0\\xa0\\xa0', '|')\n",
    "print(s)"
   ]
  },
  {
   "cell_type": "code",
   "execution_count": null,
   "id": "2f527801",
   "metadata": {},
   "outputs": [],
   "source": [
    "s"
   ]
  },
  {
   "cell_type": "code",
   "execution_count": null,
   "id": "c3ccc8af",
   "metadata": {},
   "outputs": [],
   "source": [
    "s = 'Asia    |   Australia/New Zealand    |   EMEA    |   Latin America    |   North America'"
   ]
  },
  {
   "cell_type": "code",
   "execution_count": null,
   "id": "1a3c84bc",
   "metadata": {},
   "outputs": [],
   "source": [
    "s"
   ]
  },
  {
   "cell_type": "code",
   "execution_count": null,
   "id": "90ad0196",
   "metadata": {},
   "outputs": [],
   "source": [
    "s = 'configuration\\nWith'\n",
    "s.split()"
   ]
  },
  {
   "cell_type": "code",
   "execution_count": null,
   "id": "94da9290",
   "metadata": {},
   "outputs": [],
   "source": [
    "'a'.islower()"
   ]
  },
  {
   "cell_type": "code",
   "execution_count": null,
   "id": "c2a60826",
   "metadata": {},
   "outputs": [],
   "source": [
    "a = [1]\n",
    "for i in a[1:]:\n",
    "    print(i)"
   ]
  },
  {
   "cell_type": "code",
   "execution_count": 1,
   "id": "458fb175",
   "metadata": {},
   "outputs": [],
   "source": [
    "# coding=utf-8\n",
    "import os\n",
    "import sys\n",
    "import time\n",
    "import math\n",
    "\n",
    "from pdfminer.high_level import extract_pages\n",
    "from pdfminer.layout import LTTextContainer\n",
    "\n",
    "\n",
    "def remove_blank(s):\n",
    "    t = ''\n",
    "    for i in s.split('\\n'):\n",
    "        if i.strip():\n",
    "            i = ' '.join(i.split())\n",
    "            if i[0].islower():\n",
    "                t = t + ' ' + i\n",
    "            else:\n",
    "                t = t + '\\n' + i\n",
    "\n",
    "    return t.strip()\n",
    "\n",
    "\n",
    "def extract(f):\n",
    "\n",
    "    for page_layout in extract_pages(f, page_numbers=[0]):\n",
    "\n",
    "        count = 1\n",
    "        text_area = []\n",
    "        for element in page_layout:\n",
    "            if isinstance(element, LTTextContainer):\n",
    "                text = element.get_text()\n",
    "\n",
    "                s = str(text).strip()\n",
    "                # s = ' '.join(s.split())\n",
    "                text_height = round(element.height)\n",
    "                x0 = round(element.x0)\n",
    "                y1 = -round(element.y1)\n",
    "                text_area.append([y1, x0, text_height, s])\n",
    "\n",
    "                # print(count, y1, x0, text_height, s)\n",
    "                count += 1\n",
    "\n",
    "        text_area.sort()\n",
    "        text = []\n",
    "\n",
    "        i = 0\n",
    "        while i < len(text_area):\n",
    "            j = i + 1\n",
    "            s = remove_blank(text_area[i][-1])\n",
    "            while j < len(text_area) and text_area[i][0] == text_area[j][0]:\n",
    "                t = remove_blank(text_area[j][-1])\n",
    "                s = s + '\\t' + t\n",
    "                j += 1\n",
    "            text.append(s)\n",
    "            i = j\n",
    "\n",
    "#         print('\\n'.join(text))\n",
    "        \n",
    "        return text_area, text"
   ]
  },
  {
   "cell_type": "code",
   "execution_count": 3,
   "id": "70a8999f",
   "metadata": {},
   "outputs": [],
   "source": [
    "ta, t = extract('4038287.pdf')"
   ]
  },
  {
   "cell_type": "code",
   "execution_count": null,
   "id": "2bef17f7",
   "metadata": {},
   "outputs": [],
   "source": [
    "ta"
   ]
  },
  {
   "cell_type": "code",
   "execution_count": null,
   "id": "065a3585",
   "metadata": {},
   "outputs": [],
   "source": [
    "t"
   ]
  },
  {
   "cell_type": "code",
   "execution_count": 4,
   "id": "c308f61d",
   "metadata": {
    "scrolled": true
   },
   "outputs": [
    {
     "name": "stdout",
     "output_type": "stream",
     "text": [
      "◼ Features\n",
      "⚫ One-chip Solution (Hall Element + Driver)\n",
      "⚫ High Sensitivity Hall Sensor\n",
      "BOP 25GS、BRP -25GS\n"
     ]
    }
   ],
   "source": [
    "s = t[2].replace('\\uf06e ', '\\n●').replace('\\uf06c ', '\\n■')\n",
    "print(remove_blank(s))"
   ]
  },
  {
   "cell_type": "code",
   "execution_count": null,
   "id": "786afd4f",
   "metadata": {},
   "outputs": [],
   "source": []
  },
  {
   "cell_type": "code",
   "execution_count": 5,
   "id": "5d46416d",
   "metadata": {},
   "outputs": [],
   "source": [
    "import sys\n",
    "from io import StringIO\n",
    "\n",
    "from pdfminer.high_level import extract_text_to_fp\n",
    "\n",
    "\n",
    "def extract_text(f):\n",
    "    output_string = StringIO()\n",
    "    with open(f, 'rb') as fin:\n",
    "        extract_text_to_fp(fin, output_string, maxpages=1)\n",
    "    return output_string.getvalue()"
   ]
  },
  {
   "cell_type": "code",
   "execution_count": 58,
   "id": "68218020",
   "metadata": {},
   "outputs": [],
   "source": [
    "s = extract_text('4038296.pdf')\n",
    "t = s.replace('\\uf06e ', '\\n●').replace('\\uf06c ', '\\n■')\n",
    "t = t.replace('General Description ', 'General Description \\n■')\n",
    "t = t.replace(' ◼ ', '\\n●').replace(' ⚫ ', '\\n■')\n",
    "t = remove_blank(t)"
   ]
  },
  {
   "cell_type": "code",
   "execution_count": 59,
   "id": "d2571f6a",
   "metadata": {},
   "outputs": [
    {
     "name": "stdout",
     "output_type": "stream",
     "text": [
      "Page1-8Ver.1.2,Apr25,2021OCH29831ULTRA-SAFE○RSinglePhaseHall-EffectDCFanDriverOCS ConfidentialDO NOT COPYPinConfiguration(TopView)SIP-4LFigure1，PinAssignmentsofOCH29831PinNamePinNo.PinFunctionVDD1PositivePowerSupplyDO2Output1DOB3Output2GND4GroundTypicalApplicationCircuitFigure2,TypicalApplicationCircuitOfOCH29831Note1：Whenthepowerpulseisrelativelylarge，MustuseleastC1=1µFceramiccapacitororC2=1~4.7uFelectrolyticcapacitorforthedecouplingbetweenVDDandGNDandplacethecapacitorasclosetotheICasPossible.Note2：WhenVINislargethan18V,adiodeD1forreversedprotectionisneed。GeneralDescriptionTheOCH29831isanintegratedHallsensorwithH-BridgedoutputdriverdesignedforbrushlessDCmotorapplications.ThedeviceisusinghighvoltageBCDprocessincludesanon-chipHallsensorformagneticsensing,anamplifierthatamplifiestheHallvoltage,acomparatortoprovideswitchinghysteresisfornoiserejection,abi-directionaldriverforsinkinganddrivinglargecurrentload.OCH29831built-inpowersupplyreverseconnectionprotectioncircuitenablestheOCH29831dononeedforexternalreversediodeinapplication,canreducingthefancost.OCH29831isavailableinSIP-4Lpackageandisratedoverthe-40°Cto125°C.FeaturesBuilt-inVCCtoGNDreversevoltageprotectionLowOutputSwitchingCurrentNoiseOne-chipSolution(HallElement+Driver)InputVoltageRange:3.5Vto36VHighSensitivityHallSensorBOP(20GS),BRP(-20GS)ThermalShutdownProtectionRDS(ON):1.65ΩSpecialULTRA-SAFE○RDesignNoSupportVccPWMSpeedControlRoHSCompliantAvailableinSIP-4L(TO94)packageApplicationsSingleCoilDesignCoolingFanSingleCoilDCBrushlessMotor\n"
     ]
    }
   ],
   "source": [
    "print(t)"
   ]
  },
  {
   "cell_type": "code",
   "execution_count": null,
   "id": "02b4343f",
   "metadata": {},
   "outputs": [],
   "source": []
  },
  {
   "cell_type": "code",
   "execution_count": null,
   "id": "0bad1fdf",
   "metadata": {},
   "outputs": [],
   "source": []
  },
  {
   "cell_type": "code",
   "execution_count": 50,
   "id": "d36fac4a",
   "metadata": {},
   "outputs": [
    {
     "data": {
      "text/plain": [
       "['Page1',\n",
       " '-',\n",
       " '6',\n",
       " 'Ver.',\n",
       " '1.0,',\n",
       " 'Aug.30,',\n",
       " '2018',\n",
       " 'OCH29822',\n",
       " '电源反接保护、支持1.5A锁机大电流、450mA单线圈风扇驱动器']"
      ]
     },
     "execution_count": 50,
     "metadata": {},
     "output_type": "execute_result"
    }
   ],
   "source": [
    "tl = t.split('\\n')\n",
    "tl[0] = tl[0]\n",
    "tl0 = tl[0].split()\n",
    "tl0 = tl[0][:tl[0].index('OCS')]\n",
    "tl0 = tl0.split()\n",
    "tl0"
   ]
  },
  {
   "cell_type": "code",
   "execution_count": 51,
   "id": "e6371c5b",
   "metadata": {},
   "outputs": [
    {
     "data": {
      "text/plain": [
       "'Ver.1.0,'"
      ]
     },
     "execution_count": 51,
     "metadata": {},
     "output_type": "execute_result"
    }
   ],
   "source": [
    "i = 0\n",
    "while i<len(tl0) and not tl0[i].startswith('Ver'):\n",
    "    i+=1\n",
    "if tl0[i+1][0].isupper():\n",
    "    ver = tl0[i][:-1]\n",
    "else:\n",
    "    ver = tl0[i] + tl0[i+1]\n",
    "    i = i + 1\n",
    "ver"
   ]
  },
  {
   "cell_type": "code",
   "execution_count": 52,
   "id": "cf7419d0",
   "metadata": {},
   "outputs": [
    {
     "data": {
      "text/plain": [
       "['Aug.30,', '2018']"
      ]
     },
     "execution_count": 52,
     "metadata": {},
     "output_type": "execute_result"
    }
   ],
   "source": [
    "date = tl0[i+1:i+3]\n",
    "date"
   ]
  },
  {
   "cell_type": "code",
   "execution_count": 53,
   "id": "a35eefd4",
   "metadata": {},
   "outputs": [
    {
     "data": {
      "text/plain": [
       "['OCH29822', '电源反接保护、支持1.5A锁机大电流、450mA单线圈风扇驱动器']"
      ]
     },
     "execution_count": 53,
     "metadata": {},
     "output_type": "execute_result"
    }
   ],
   "source": [
    "tl0[i+3:]"
   ]
  },
  {
   "cell_type": "code",
   "execution_count": 56,
   "id": "c01e9e66",
   "metadata": {},
   "outputs": [],
   "source": [
    "ver = tl0[1][:-1]\n",
    "date = ' '.join(tl0[2:4])\n",
    "doc_name = ' '.join(tl0[4:])"
   ]
  },
  {
   "cell_type": "code",
   "execution_count": 17,
   "id": "c8bbd6af",
   "metadata": {},
   "outputs": [],
   "source": [
    "app = []\n",
    "if '●Applications' in tl:\n",
    "    des = tl[1:tl.index('●Applications')]\n",
    "    app = tl[tl.index('●Applications')+1:]\n",
    "else:\n",
    "    des = tl[2:]\n",
    "\n",
    "i = 0\n",
    "while i<len(app) and app[i].startswith('■'): \n",
    "    i+=1\n",
    "app = app[:i]\n",
    "app = ';'.join(app).replace('■','')"
   ]
  },
  {
   "cell_type": "code",
   "execution_count": null,
   "id": "34dd4662",
   "metadata": {},
   "outputs": [],
   "source": [
    "app = []\n",
    "i = 0\n",
    "while i<len(app) and app[i].startswith('■'): \n",
    "    i+=1\n",
    "app = app[:i]\n",
    "app = ';'.join(app).replace('■','')\n",
    "app"
   ]
  },
  {
   "cell_type": "code",
   "execution_count": 57,
   "id": "52f13fed",
   "metadata": {},
   "outputs": [
    {
     "name": "stdout",
     "output_type": "stream",
     "text": [
      "Datasheet\n",
      "1.0, Aug.30, 2018 OCH29822 电源反接保护、支持1.5A锁机大电流、450mA单线圈风扇驱动器\n"
     ]
    }
   ],
   "source": [
    "print('Datasheet')\n",
    "print(doc_name)"
   ]
  },
  {
   "cell_type": "code",
   "execution_count": 19,
   "id": "37e11546",
   "metadata": {},
   "outputs": [
    {
     "name": "stdout",
     "output_type": "stream",
     "text": [
      "June13, 2019\n",
      "Ver.1.1\n"
     ]
    }
   ],
   "source": [
    "print(date)\n",
    "print(ver)"
   ]
  },
  {
   "cell_type": "code",
   "execution_count": 20,
   "id": "6d82e77c",
   "metadata": {},
   "outputs": [
    {
     "name": "stdout",
     "output_type": "stream",
     "text": [
      "●General Description\n",
      "■The OCH1672 High Sensitivity Omnipolar magnetic sensor IC is fabricated from mixed signal CMOS technology. It is comprised of one Hall plates and a CMOS output driver. The total power consumption in normal operation is typically 9μW with a 3V power source. Either north or south poles of sufficient strength will turn the output on. The output will be turned off under no magnetic field. While the magnetic flux density (B) is larger than operating point (|Bop|), the output will be turned on (low), the output is held until B is lower than release point (|BRPS|), and then turned off. The OCH1672 is available in many flexible packaging options, such as SOT23-3L.Operating temperature range of the OCH1672 is from -40°C to 85°C.\n",
      "●Features\n",
      "■Operation with North or South pole(omnipolar)\n",
      "■2.4V to 5.5V operation\n",
      "■10GS High sensitivity and high stability of the magnetic switching points\n",
      "■High resistance to mechanical stress\n",
      "■Digital output signal\n",
      "■Good RF noise immunity\n",
      "■-40℃ to 85℃ operating temperature\n",
      "■CMOS output\n",
      "■Package: SOT23-3L\n"
     ]
    }
   ],
   "source": [
    "print('\\n'.join(des))"
   ]
  },
  {
   "cell_type": "code",
   "execution_count": null,
   "id": "4e9ad0b4",
   "metadata": {},
   "outputs": [],
   "source": []
  }
 ],
 "metadata": {
  "kernelspec": {
   "display_name": "Python 3 (ipykernel)",
   "language": "python",
   "name": "python3"
  },
  "language_info": {
   "codemirror_mode": {
    "name": "ipython",
    "version": 3
   },
   "file_extension": ".py",
   "mimetype": "text/x-python",
   "name": "python",
   "nbconvert_exporter": "python",
   "pygments_lexer": "ipython3",
   "version": "3.8.10"
  }
 },
 "nbformat": 4,
 "nbformat_minor": 5
}
